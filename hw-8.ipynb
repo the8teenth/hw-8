{
 "cells": [
  {
   "cell_type": "markdown",
   "id": "341ae054",
   "metadata": {},
   "source": [
    "## Задание 1"
   ]
  },
  {
   "cell_type": "code",
   "execution_count": 2,
   "id": "cee8fff4",
   "metadata": {},
   "outputs": [],
   "source": [
    "import re"
   ]
  },
  {
   "cell_type": "code",
   "execution_count": 39,
   "id": "c6f93208",
   "metadata": {},
   "outputs": [
    {
     "name": "stdout",
     "output_type": "stream",
     "text": [
      "Номер A222BC валиден. Регион: 96\n"
     ]
    }
   ],
   "source": [
    "reg = r'(\\w{1}\\d{3}\\w{2})(\\d{2,3})'\n",
    "\n",
    "car_id = 'A222BC96'\n",
    "\n",
    "search = re.findall(reg, car_id)\n",
    "\n",
    "if search:\n",
    "    print(f\"Номер {search[0][0]} валиден. Регион: {search[0][1]}\")\n",
    "else:\n",
    "    print('Номер не валиден')"
   ]
  },
  {
   "cell_type": "code",
   "execution_count": 40,
   "id": "63561c38",
   "metadata": {},
   "outputs": [
    {
     "name": "stdout",
     "output_type": "stream",
     "text": [
      "Номер не валиден\n"
     ]
    }
   ],
   "source": [
    "car_id = 'АБ22ВВ193'\n",
    "\n",
    "search = re.findall(reg, car_id)\n",
    "\n",
    "if search:\n",
    "    print(f\"Номер {search[0][0]} валиден. Регион: {search[0][1]}\")\n",
    "else:\n",
    "    print('Номер не валиден')"
   ]
  },
  {
   "cell_type": "markdown",
   "id": "366f6f16",
   "metadata": {},
   "source": [
    "## Задание 2"
   ]
  },
  {
   "cell_type": "code",
   "execution_count": 131,
   "id": "db6fb946",
   "metadata": {},
   "outputs": [
    {
     "name": "stdout",
     "output_type": "stream",
     "text": [
      "Напишите функцию, которая будет удалять все последовательные повторы слов из заданной строки при помощи регулярных выражений.\n"
     ]
    }
   ],
   "source": [
    "some_string = 'Напишите функцию функцию, которая будет будет будет будет удалять все все\\\n",
    " все все последовательные повторы слов из из из из заданной строки строки при помощи регулярных выражений.'\n",
    "\n",
    "print( re.sub(r'\\b([^\\W\\d_]+)(\\s+\\1)+\\b', r'\\1', some_string, flags=re.I) )\n"
   ]
  },
  {
   "cell_type": "markdown",
   "id": "1b75ac14",
   "metadata": {},
   "source": [
    "Решение для этого задания нашёл на Stack'е.\n",
    "Возник вопрос с вот этой частью ([^\\W\\d_]+).\n",
    "^\\W\\d - я так понял, это значит искать всё, кроме нестроковых символов и чисел.\n",
    "Подскажите, что значит \"_\" после \\d"
   ]
  },
  {
   "cell_type": "markdown",
   "id": "cd7e3f12",
   "metadata": {},
   "source": [
    "## Задание 3"
   ]
  },
  {
   "cell_type": "code",
   "execution_count": 86,
   "id": "4c10426f",
   "metadata": {},
   "outputs": [
    {
     "name": "stdout",
     "output_type": "stream",
     "text": [
      "ИТ"
     ]
    }
   ],
   "source": [
    "#Подскажите, пожалуйста, как ещё можно выполнить данное задание\n",
    "\n",
    "some_words = 'Информационные технологии'\n",
    "\n",
    "l = []\n",
    "\n",
    "s_w = re.findall(r'(\\w+)', some_words)\n",
    "\n",
    "for letter in s_w:\n",
    "    l += letter[0][0].upper()\n",
    "    \n",
    "for elem in l:\n",
    "    print(elem, end='')\n"
   ]
  },
  {
   "cell_type": "code",
   "execution_count": 82,
   "id": "cc679c0a",
   "metadata": {},
   "outputs": [
    {
     "name": "stdout",
     "output_type": "stream",
     "text": [
      "NFC"
     ]
    }
   ],
   "source": [
    "some_words = 'Near Field Communication'\n",
    "\n",
    "l = []\n",
    "\n",
    "s_w = re.findall(r'(\\w+)', some_words)\n",
    "\n",
    "for letter in s_w:\n",
    "    l += letter[0][0].upper()\n",
    "    \n",
    "for elem in l:\n",
    "    print(elem, end='')\n"
   ]
  },
  {
   "cell_type": "markdown",
   "id": "765c526b",
   "metadata": {},
   "source": [
    "## Задание 4"
   ]
  },
  {
   "cell_type": "code",
   "execution_count": 53,
   "id": "adf26fa4",
   "metadata": {},
   "outputs": [
    {
     "name": "stdout",
     "output_type": "stream",
     "text": [
      "gmail.com: 2\n",
      "test.in: 1\n",
      "ya.ru: 2\n",
      "mail.ru: 1\n"
     ]
    }
   ],
   "source": [
    "emails = ['test@gmail.com', 'xyz@test.in', 'test@ya.ru', 'xyz@mail.ru', 'xyz@ya.ru', 'xyz@gmail.com']\n",
    "\n",
    "gmail = 0\n",
    "test = 0\n",
    "ya = 0\n",
    "mail = 0\n",
    "\n",
    "for e in emails:\n",
    "    \n",
    "    gmail_pattern = re.findall(r'\\w+(?<=gmail.com)', e)\n",
    "    test_pattern = re.findall(r'\\w+(?<=test.in)', e)\n",
    "    ya_pattern = re.findall(r'\\w+(?<=ya.ru)', e)\n",
    "    mail_pattern = re.findall(r'\\w+(?<=mail.ru)', e)\n",
    "    \n",
    "    if gmail_pattern:\n",
    "        gmail += 1\n",
    "    elif test_pattern:\n",
    "        test += 1\n",
    "    elif ya_pattern:\n",
    "        ya += 1\n",
    "    elif mail_pattern:\n",
    "        mail += 1\n",
    "\n",
    "\n",
    "print('gmail.com:', gmail)\n",
    "print('test.in:', test)\n",
    "print('ya.ru:', ya)\n",
    "print('mail.ru:', mail)"
   ]
  }
 ],
 "metadata": {
  "kernelspec": {
   "display_name": "Python 3",
   "language": "python",
   "name": "python3"
  },
  "language_info": {
   "codemirror_mode": {
    "name": "ipython",
    "version": 3
   },
   "file_extension": ".py",
   "mimetype": "text/x-python",
   "name": "python",
   "nbconvert_exporter": "python",
   "pygments_lexer": "ipython3",
   "version": "3.8.8"
  }
 },
 "nbformat": 4,
 "nbformat_minor": 5
}
